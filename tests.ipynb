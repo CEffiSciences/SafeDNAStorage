{
 "cells": [
  {
   "cell_type": "code",
   "execution_count": 20,
   "metadata": {},
   "outputs": [
    {
     "name": "stdout",
     "output_type": "stream",
     "text": [
      "All tests passed!\n",
      "Successfully converted 1,000,000 bits to 125,000 bytes\n"
     ]
    }
   ],
   "source": [
    "def binary_string_to_bytes(binary_string: str) -> bytes:\n",
    "    \"\"\"\n",
    "    Convert a string of binary digits ('0' and '1') to bytes.\n",
    "    \n",
    "    Args:\n",
    "        binary_string (str): A string containing only '0' and '1' characters\n",
    "        \n",
    "    Returns:\n",
    "        bytes: The binary data represented by the string\n",
    "        \n",
    "    Raises:\n",
    "        ValueError: If the input string contains characters other than '0' and '1'\n",
    "    \"\"\"\n",
    "    # Input validation\n",
    "    if not all(bit in '01' for bit in binary_string):\n",
    "        raise ValueError(\"Input string must contain only '0' and '1' characters\")\n",
    "    \n",
    "    # Pad the string with zeros if needed to ensure it's a multiple of 8 bits\n",
    "    padded_binary = binary_string.zfill((len(binary_string) + 7) // 8 * 8)\n",
    "    \n",
    "    # Convert to bytes using int.to_bytes()\n",
    "    # The length calculation ensures we allocate exactly enough bytes\n",
    "    num_bytes = len(padded_binary) // 8\n",
    "    return int(padded_binary, 2).to_bytes(num_bytes, byteorder='big')\n",
    "\n",
    "def test_binary_string_to_bytes():\n",
    "    \"\"\"Test cases for binary_string_to_bytes function\"\"\"\n",
    "    # Test case 1: Basic ASCII character\n",
    "    assert binary_string_to_bytes('01000101') == b'E'\n",
    "    \n",
    "    # Test case 2: Multiple bytes\n",
    "    assert binary_string_to_bytes('0100010101000010') == b'EB'\n",
    "    \n",
    "    # Test case 3: String needing padding\n",
    "    assert binary_string_to_bytes('1000101') == b'E'  # Will pad with leading 0\n",
    "    \n",
    "    # Test case 4: Very long string (1000 bits)\n",
    "    long_binary = '1' * 1000\n",
    "    result = binary_string_to_bytes(long_binary)\n",
    "    assert len(result) == 125  # 1000 bits = 125 bytes\n",
    "    assert all(byte == 255 for byte in result)  # All bytes should be 0xFF\n",
    "    \n",
    "    # Test case 6: Single bit\n",
    "    assert binary_string_to_bytes('1') == b'\\x01'\n",
    "    \n",
    "    try:\n",
    "        binary_string_to_bytes('01020')  # Contains invalid '2'\n",
    "        assert False, \"Should have raised ValueError\"\n",
    "    except ValueError:\n",
    "        pass\n",
    "    \n",
    "    print(\"All tests passed!\")\n",
    "\n",
    "# Run the tests\n",
    "if __name__ == \"__main__\":\n",
    "    test_binary_string_to_bytes()\n",
    "    \n",
    "    # Example usage with a very long string\n",
    "    # Create a 1 million bit string\n",
    "    very_long_binary = '10' * 500_000\n",
    "    result = binary_string_to_bytes(very_long_binary)\n",
    "    print(f\"Successfully converted {len(very_long_binary):,} bits to {len(result):,} bytes\")"
   ]
  },
  {
   "cell_type": "code",
   "execution_count": null,
   "metadata": {},
   "outputs": [],
   "source": []
  }
 ],
 "metadata": {
  "kernelspec": {
   "display_name": "AIxBIO",
   "language": "python",
   "name": "python3"
  },
  "language_info": {
   "codemirror_mode": {
    "name": "ipython",
    "version": 3
   },
   "file_extension": ".py",
   "mimetype": "text/x-python",
   "name": "python",
   "nbconvert_exporter": "python",
   "pygments_lexer": "ipython3",
   "version": "3.9.20"
  }
 },
 "nbformat": 4,
 "nbformat_minor": 2
}
